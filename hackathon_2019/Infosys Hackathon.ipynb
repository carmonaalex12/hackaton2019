{
 "cells": [
  {
   "cell_type": "code",
   "execution_count": 3,
   "metadata": {},
   "outputs": [
    {
     "name": "stdout",
     "output_type": "stream",
     "text": [
      "WARNING: The conda.compat module is deprecated and will be removed in a future release.\n",
      "\n",
      "CondaValueError: invalid package specification: =\n",
      "\n",
      "\n",
      "Note: you may need to restart the kernel to use updated packages.\n"
     ]
    }
   ],
   "source": [
    "conda install python = 3.5.0"
   ]
  },
  {
   "cell_type": "code",
   "execution_count": 4,
   "metadata": {},
   "outputs": [
    {
     "name": "stdout",
     "output_type": "stream",
     "text": [
      "Collecting healthdemo from git+https://github.com/IBMStreams/streamsx.health.git#egg=healthdemo&subdirectory=samples/HealthcareJupyterDemo/package\n",
      "  Cloning https://github.com/IBMStreams/streamsx.health.git to /private/var/folders/x3/v1b923b96hng5mn1ssc4k27r0000gn/T/pip-install-l4x0r7rb/healthdemo\n",
      "Building wheels for collected packages: healthdemo\n",
      "  Building wheel for healthdemo (setup.py) ... \u001b[?25ldone\n",
      "\u001b[?25h  Stored in directory: /private/var/folders/x3/v1b923b96hng5mn1ssc4k27r0000gn/T/pip-ephem-wheel-cache-rwuqiziw/wheels/8c/f4/21/deca69ad13332ada14e4e5c4e4f41bc377e7d1e63b58c103ec\n",
      "Successfully built healthdemo\n",
      "Installing collected packages: healthdemo\n",
      "  Found existing installation: healthdemo 1.0\n",
      "    Uninstalling healthdemo-1.0:\n",
      "      Successfully uninstalled healthdemo-1.0\n",
      "Successfully installed healthdemo-1.0\n"
     ]
    }
   ],
   "source": [
    "!pip install --user --upgrade \"git+https://github.com/IBMStreams/streamsx.health.git#egg=healthdemo&subdirectory=samples/HealthcareJupyterDemo/package\"\n"
   ]
  },
  {
   "cell_type": "code",
   "execution_count": 5,
   "metadata": {
    "scrolled": true
   },
   "outputs": [
    {
     "name": "stdout",
     "output_type": "stream",
     "text": [
      "Requirement already satisfied: streamsx in /Users/alejandrocarmona/anaconda3/lib/python3.7/site-packages (1.12.10)\n",
      "Requirement already satisfied: future in /Users/alejandrocarmona/anaconda3/lib/python3.7/site-packages (from streamsx) (0.17.1)\n",
      "Requirement already satisfied: requests in /Users/alejandrocarmona/anaconda3/lib/python3.7/site-packages (from streamsx) (2.21.0)\n",
      "Requirement already satisfied: dill in /Users/alejandrocarmona/anaconda3/lib/python3.7/site-packages (from streamsx) (0.3.0)\n",
      "Requirement already satisfied: chardet<3.1.0,>=3.0.2 in /Users/alejandrocarmona/anaconda3/lib/python3.7/site-packages (from requests->streamsx) (3.0.4)\n",
      "Requirement already satisfied: urllib3<1.25,>=1.21.1 in /Users/alejandrocarmona/anaconda3/lib/python3.7/site-packages (from requests->streamsx) (1.24.1)\n",
      "Requirement already satisfied: certifi>=2017.4.17 in /Users/alejandrocarmona/anaconda3/lib/python3.7/site-packages (from requests->streamsx) (2019.3.9)\n",
      "Requirement already satisfied: idna<2.9,>=2.5 in /Users/alejandrocarmona/anaconda3/lib/python3.7/site-packages (from requests->streamsx) (2.8)\n",
      "Note: you may need to restart the kernel to use updated packages.\n"
     ]
    }
   ],
   "source": [
    "pip install streamsx"
   ]
  },
  {
   "cell_type": "code",
   "execution_count": 6,
   "metadata": {},
   "outputs": [
    {
     "name": "stdout",
     "output_type": "stream",
     "text": [
      "Streaming Analytics credentials:········\n"
     ]
    }
   ],
   "source": [
    "import json\n",
    "import getpass\n",
    "from streamsx.topology.context import ConfigParams\n",
    "credentials=getpass.getpass('Streaming Analytics credentials:')\n",
    "\n",
    "vs={'streaming-analytics': [{'name': 'Streaming Analytics', 'credentials': json.loads(credentials)}]}\n",
    "config={ConfigParams.VCAP_SERVICES: vs, ConfigParams.SERVICE_NAME: 'Streaming Analytics'}"
   ]
  },
  {
   "cell_type": "code",
   "execution_count": null,
   "metadata": {
    "scrolled": true
   },
   "outputs": [],
   "source": []
  },
  {
   "cell_type": "code",
   "execution_count": 8,
   "metadata": {},
   "outputs": [
    {
     "ename": "RuntimeError",
     "evalue": "The ANALYTICS_SERVICE context only supports Python version 3.5",
     "output_type": "error",
     "traceback": [
      "\u001b[0;31m---------------------------------------------------------------------------\u001b[0m",
      "\u001b[0;31mRuntimeError\u001b[0m                              Traceback (most recent call last)",
      "\u001b[0;32m<ipython-input-8-e111092ed913>\u001b[0m in \u001b[0;36m<module>\u001b[0;34m\u001b[0m\n\u001b[1;32m     32\u001b[0m \u001b[0mpatients_vital\u001b[0m \u001b[0;34m=\u001b[0m \u001b[0mpatients_data\u001b[0m\u001b[0;34m.\u001b[0m\u001b[0mview\u001b[0m\u001b[0;34m(\u001b[0m\u001b[0mname\u001b[0m\u001b[0;34m=\u001b[0m\u001b[0;34m'patients_vital'\u001b[0m\u001b[0;34m)\u001b[0m\u001b[0;34m\u001b[0m\u001b[0;34m\u001b[0m\u001b[0m\n\u001b[1;32m     33\u001b[0m \u001b[0;34m\u001b[0m\u001b[0m\n\u001b[0;32m---> 34\u001b[0;31m \u001b[0mrc\u001b[0m \u001b[0;34m=\u001b[0m \u001b[0msubmit\u001b[0m\u001b[0;34m(\u001b[0m\u001b[0;34m'STREAMING_ANALYTICS_SERVICE'\u001b[0m\u001b[0;34m,\u001b[0m \u001b[0mtopo\u001b[0m\u001b[0;34m,\u001b[0m \u001b[0mconfig\u001b[0m\u001b[0;34m)\u001b[0m\u001b[0;34m\u001b[0m\u001b[0;34m\u001b[0m\u001b[0m\n\u001b[0m\u001b[1;32m     35\u001b[0m \u001b[0mprint\u001b[0m \u001b[0;34m(\u001b[0m\u001b[0;34m\"DONE\"\u001b[0m\u001b[0;34m)\u001b[0m\u001b[0;34m\u001b[0m\u001b[0;34m\u001b[0m\u001b[0m\n",
      "\u001b[0;32m~/anaconda3/lib/python3.7/site-packages/streamsx/topology/context.py\u001b[0m in \u001b[0;36msubmit\u001b[0;34m(ctxtype, graph, config, username, password)\u001b[0m\n\u001b[1;32m     84\u001b[0m         \u001b[0;32mraise\u001b[0m \u001b[0mValueError\u001b[0m\u001b[0;34m(\u001b[0m\u001b[0;34m\"Topology {0} does not contain any streams.\"\u001b[0m\u001b[0;34m.\u001b[0m\u001b[0mformat\u001b[0m\u001b[0;34m(\u001b[0m\u001b[0mgraph\u001b[0m\u001b[0;34m.\u001b[0m\u001b[0mtopology\u001b[0m\u001b[0;34m.\u001b[0m\u001b[0mname\u001b[0m\u001b[0;34m)\u001b[0m\u001b[0;34m)\u001b[0m\u001b[0;34m\u001b[0m\u001b[0;34m\u001b[0m\u001b[0m\n\u001b[1;32m     85\u001b[0m \u001b[0;34m\u001b[0m\u001b[0m\n\u001b[0;32m---> 86\u001b[0;31m     \u001b[0mcontext_submitter\u001b[0m \u001b[0;34m=\u001b[0m \u001b[0m_SubmitContextFactory\u001b[0m\u001b[0;34m(\u001b[0m\u001b[0mgraph\u001b[0m\u001b[0;34m,\u001b[0m \u001b[0mconfig\u001b[0m\u001b[0;34m,\u001b[0m \u001b[0musername\u001b[0m\u001b[0;34m,\u001b[0m \u001b[0mpassword\u001b[0m\u001b[0;34m)\u001b[0m\u001b[0;34m.\u001b[0m\u001b[0mget_submit_context\u001b[0m\u001b[0;34m(\u001b[0m\u001b[0mctxtype\u001b[0m\u001b[0;34m)\u001b[0m\u001b[0;34m\u001b[0m\u001b[0;34m\u001b[0m\u001b[0m\n\u001b[0m\u001b[1;32m     87\u001b[0m     \u001b[0msr\u001b[0m \u001b[0;34m=\u001b[0m \u001b[0mSubmissionResult\u001b[0m\u001b[0;34m(\u001b[0m\u001b[0mcontext_submitter\u001b[0m\u001b[0;34m.\u001b[0m\u001b[0msubmit\u001b[0m\u001b[0;34m(\u001b[0m\u001b[0;34m)\u001b[0m\u001b[0;34m)\u001b[0m\u001b[0;34m\u001b[0m\u001b[0;34m\u001b[0m\u001b[0m\n\u001b[1;32m     88\u001b[0m     \u001b[0msr\u001b[0m\u001b[0;34m.\u001b[0m\u001b[0m_submitter\u001b[0m \u001b[0;34m=\u001b[0m \u001b[0mcontext_submitter\u001b[0m\u001b[0;34m\u001b[0m\u001b[0;34m\u001b[0m\u001b[0m\n",
      "\u001b[0;32m~/anaconda3/lib/python3.7/site-packages/streamsx/topology/context.py\u001b[0m in \u001b[0;36mget_submit_context\u001b[0;34m(self, ctxtype)\u001b[0m\n\u001b[1;32m    530\u001b[0m             \u001b[0mlogger\u001b[0m\u001b[0;34m.\u001b[0m\u001b[0mdebug\u001b[0m\u001b[0;34m(\u001b[0m\u001b[0;34m\"Selecting the STREAMING_ANALYTICS_SERVICE context for submission\"\u001b[0m\u001b[0;34m)\u001b[0m\u001b[0;34m\u001b[0m\u001b[0;34m\u001b[0m\u001b[0m\n\u001b[1;32m    531\u001b[0m             \u001b[0;32mif\u001b[0m \u001b[0;32mnot\u001b[0m \u001b[0;34m(\u001b[0m\u001b[0msys\u001b[0m\u001b[0;34m.\u001b[0m\u001b[0mversion_info\u001b[0m\u001b[0;34m.\u001b[0m\u001b[0mmajor\u001b[0m \u001b[0;34m==\u001b[0m \u001b[0;36m3\u001b[0m \u001b[0;32mand\u001b[0m \u001b[0msys\u001b[0m\u001b[0;34m.\u001b[0m\u001b[0mversion_info\u001b[0m\u001b[0;34m.\u001b[0m\u001b[0mminor\u001b[0m \u001b[0;34m==\u001b[0m \u001b[0;36m5\u001b[0m\u001b[0;34m)\u001b[0m\u001b[0;34m:\u001b[0m\u001b[0;34m\u001b[0m\u001b[0;34m\u001b[0m\u001b[0m\n\u001b[0;32m--> 532\u001b[0;31m                 \u001b[0;32mraise\u001b[0m \u001b[0mRuntimeError\u001b[0m\u001b[0;34m(\u001b[0m\u001b[0;34m\"The ANALYTICS_SERVICE context only supports Python version 3.5\"\u001b[0m\u001b[0;34m)\u001b[0m\u001b[0;34m\u001b[0m\u001b[0;34m\u001b[0m\u001b[0m\n\u001b[0m\u001b[1;32m    533\u001b[0m             \u001b[0mctxtype\u001b[0m \u001b[0;34m=\u001b[0m \u001b[0mContextTypes\u001b[0m\u001b[0;34m.\u001b[0m\u001b[0mSTREAMING_ANALYTICS_SERVICE\u001b[0m\u001b[0;34m\u001b[0m\u001b[0;34m\u001b[0m\u001b[0m\n\u001b[1;32m    534\u001b[0m             \u001b[0;32mreturn\u001b[0m \u001b[0m_StreamingAnalyticsSubmitter\u001b[0m\u001b[0;34m(\u001b[0m\u001b[0mctxtype\u001b[0m\u001b[0;34m,\u001b[0m \u001b[0mself\u001b[0m\u001b[0;34m.\u001b[0m\u001b[0mconfig\u001b[0m\u001b[0;34m,\u001b[0m \u001b[0mself\u001b[0m\u001b[0;34m.\u001b[0m\u001b[0mgraph\u001b[0m\u001b[0;34m)\u001b[0m\u001b[0;34m\u001b[0m\u001b[0;34m\u001b[0m\u001b[0m\n",
      "\u001b[0;31mRuntimeError\u001b[0m: The ANALYTICS_SERVICE context only supports Python version 3.5"
     ]
    }
   ],
   "source": [
    "from streamsx.topology import schema\n",
    "from streamsx.topology.topology import Topology\n",
    "from streamsx.topology.context import submit\n",
    "\n",
    "## The healthdemo package provides tools to analyze patient data\n",
    "## See https://github.com/IBMStreams/streamsx.health/tree/develop/samples/HealthcareJupyterDemo/package\n",
    "from healthdemo.patientmonitoring_functions import streaming_rpeak\n",
    "from healthdemo.healthcare_functions import GenTimestamp, aggregate\n",
    "from healthdemo.windows import SlidingWindow\n",
    "\n",
    "topo = Topology('HealthcareDemo')\n",
    "\n",
    "## The ingest-physionet provides data at a rate of 125 tuples/sec\n",
    "sample_rate = 125\n",
    "\n",
    "## Subscribe to the topic\n",
    "patients_data = topo.subscribe('ingest-physionet', schema.CommonSchema.Json)\n",
    "            \n",
    "## Add timestamp to the data, so you can perform windowing\n",
    "patients_data = patients_data.transform(GenTimestamp(sample_rate))\n",
    "\n",
    "## Generate a window based on the provided sample_rate\n",
    "patients_data = patients_data.transform(SlidingWindow(length=sample_rate, trigger=sample_rate-1))\n",
    "\n",
    "## Aggregate the data within the window and create a tuple\n",
    "patients_data = patients_data.transform(aggregate)\n",
    "\n",
    "## Process data from 'ECG Lead II' and calculate RPeak and RR delta\n",
    "patients_data = streaming_rpeak(patients_data, sample_rate, data_label='ECG Lead II')\n",
    "\n",
    "## Create view for viewing patient vital data\n",
    "patients_vital = patients_data.view(name='patients_vital')\n",
    "\n",
    "rc = submit('STREAMING_ANALYTICS_SERVICE', topo, config)\n",
    "print (\"DONE\")"
   ]
  },
  {
   "cell_type": "code",
   "execution_count": null,
   "metadata": {},
   "outputs": [],
   "source": []
  }
 ],
 "metadata": {
  "kernelspec": {
   "display_name": "Python 3",
   "language": "python",
   "name": "python3"
  },
  "language_info": {
   "codemirror_mode": {
    "name": "ipython",
    "version": 3
   },
   "file_extension": ".py",
   "mimetype": "text/x-python",
   "name": "python",
   "nbconvert_exporter": "python",
   "pygments_lexer": "ipython3",
   "version": "3.7.3"
  }
 },
 "nbformat": 4,
 "nbformat_minor": 2
}
